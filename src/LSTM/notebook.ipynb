{
 "cells": [
  {
   "cell_type": "markdown",
   "metadata": {},
   "source": [
    "# Long Short Term Memory Implementation "
   ]
  },
  {
   "cell_type": "markdown",
   "metadata": {},
   "source": [
    "### This notebook contains the minimum working example to implement the LSTM algorithm to predict stock prices.\n",
    "Since this is a minimum example, only a specific ticker will be used, MSFT. "
   ]
  },
  {
   "cell_type": "code",
   "execution_count": 6,
   "metadata": {},
   "outputs": [],
   "source": [
    "import numpy as np\n",
    "import matplotlib.pyplot as plt\n",
    "import pandas as pd"
   ]
  },
  {
   "cell_type": "code",
   "execution_count": 7,
   "metadata": {},
   "outputs": [],
   "source": [
    "url = 'https://query1.finance.yahoo.com/v7/finance/download/AAPL?period1=345427200&period2=1654300800&interval=1d&events=history&includeAdjustedClose=true'\n",
    "dataset_train = pd.read_csv(url)\n",
    "training_set = dataset_train.iloc[:, 1:2].values"
   ]
  },
  {
   "cell_type": "code",
   "execution_count": 8,
   "metadata": {},
   "outputs": [
    {
     "data": {
      "text/html": [
       "<div>\n",
       "<style scoped>\n",
       "    .dataframe tbody tr th:only-of-type {\n",
       "        vertical-align: middle;\n",
       "    }\n",
       "\n",
       "    .dataframe tbody tr th {\n",
       "        vertical-align: top;\n",
       "    }\n",
       "\n",
       "    .dataframe thead th {\n",
       "        text-align: right;\n",
       "    }\n",
       "</style>\n",
       "<table border=\"1\" class=\"dataframe\">\n",
       "  <thead>\n",
       "    <tr style=\"text-align: right;\">\n",
       "      <th></th>\n",
       "      <th>Date</th>\n",
       "      <th>Open</th>\n",
       "      <th>High</th>\n",
       "      <th>Low</th>\n",
       "      <th>Close</th>\n",
       "      <th>Adj Close</th>\n",
       "      <th>Volume</th>\n",
       "    </tr>\n",
       "  </thead>\n",
       "  <tbody>\n",
       "    <tr>\n",
       "      <th>0</th>\n",
       "      <td>1980-12-12</td>\n",
       "      <td>0.128348</td>\n",
       "      <td>0.128906</td>\n",
       "      <td>0.128348</td>\n",
       "      <td>0.128348</td>\n",
       "      <td>0.100178</td>\n",
       "      <td>469033600</td>\n",
       "    </tr>\n",
       "    <tr>\n",
       "      <th>1</th>\n",
       "      <td>1980-12-15</td>\n",
       "      <td>0.122210</td>\n",
       "      <td>0.122210</td>\n",
       "      <td>0.121652</td>\n",
       "      <td>0.121652</td>\n",
       "      <td>0.094952</td>\n",
       "      <td>175884800</td>\n",
       "    </tr>\n",
       "    <tr>\n",
       "      <th>2</th>\n",
       "      <td>1980-12-16</td>\n",
       "      <td>0.113281</td>\n",
       "      <td>0.113281</td>\n",
       "      <td>0.112723</td>\n",
       "      <td>0.112723</td>\n",
       "      <td>0.087983</td>\n",
       "      <td>105728000</td>\n",
       "    </tr>\n",
       "    <tr>\n",
       "      <th>3</th>\n",
       "      <td>1980-12-17</td>\n",
       "      <td>0.115513</td>\n",
       "      <td>0.116071</td>\n",
       "      <td>0.115513</td>\n",
       "      <td>0.115513</td>\n",
       "      <td>0.090160</td>\n",
       "      <td>86441600</td>\n",
       "    </tr>\n",
       "    <tr>\n",
       "      <th>4</th>\n",
       "      <td>1980-12-18</td>\n",
       "      <td>0.118862</td>\n",
       "      <td>0.119420</td>\n",
       "      <td>0.118862</td>\n",
       "      <td>0.118862</td>\n",
       "      <td>0.092774</td>\n",
       "      <td>73449600</td>\n",
       "    </tr>\n",
       "  </tbody>\n",
       "</table>\n",
       "</div>"
      ],
      "text/plain": [
       "         Date      Open      High       Low     Close  Adj Close     Volume\n",
       "0  1980-12-12  0.128348  0.128906  0.128348  0.128348   0.100178  469033600\n",
       "1  1980-12-15  0.122210  0.122210  0.121652  0.121652   0.094952  175884800\n",
       "2  1980-12-16  0.113281  0.113281  0.112723  0.112723   0.087983  105728000\n",
       "3  1980-12-17  0.115513  0.116071  0.115513  0.115513   0.090160   86441600\n",
       "4  1980-12-18  0.118862  0.119420  0.118862  0.118862   0.092774   73449600"
      ]
     },
     "execution_count": 8,
     "metadata": {},
     "output_type": "execute_result"
    }
   ],
   "source": [
    "dataset_train.head()"
   ]
  },
  {
   "cell_type": "code",
   "execution_count": 15,
   "metadata": {},
   "outputs": [
    {
     "ename": "ImportError",
     "evalue": "dlopen(/Users/muhammadwasifkamran/Library/Python/3.8/lib/python/site-packages/scipy/spatial/_distance_wrap.cpython-38-darwin.so, 0x0006): symbol not found in flat namespace '_npy_copysign'",
     "output_type": "error",
     "traceback": [
      "\u001b[0;31m---------------------------------------------------------------------------\u001b[0m",
      "\u001b[0;31mImportError\u001b[0m                               Traceback (most recent call last)",
      "\u001b[1;32m/Users/muhammadwasifkamran/Documents/StockPrediction/src/LSTM/notebook.ipynb Cell 6'\u001b[0m in \u001b[0;36m<cell line: 1>\u001b[0;34m()\u001b[0m\n\u001b[0;32m----> <a href='vscode-notebook-cell:/Users/muhammadwasifkamran/Documents/StockPrediction/src/LSTM/notebook.ipynb#ch0000011?line=0'>1</a>\u001b[0m \u001b[39mfrom\u001b[39;00m \u001b[39msklearn\u001b[39;00m\u001b[39m.\u001b[39;00m\u001b[39mpreprocessing\u001b[39;00m \u001b[39mimport\u001b[39;00m MinMaxScaler\n\u001b[1;32m      <a href='vscode-notebook-cell:/Users/muhammadwasifkamran/Documents/StockPrediction/src/LSTM/notebook.ipynb#ch0000011?line=1'>2</a>\u001b[0m sc \u001b[39m=\u001b[39m MinMaxScaler(feature_range\u001b[39m=\u001b[39m(\u001b[39m0\u001b[39m,\u001b[39m1\u001b[39m))\n\u001b[1;32m      <a href='vscode-notebook-cell:/Users/muhammadwasifkamran/Documents/StockPrediction/src/LSTM/notebook.ipynb#ch0000011?line=2'>3</a>\u001b[0m training_set_scaled \u001b[39m=\u001b[39m sc\u001b[39m.\u001b[39mfit_transform(training_set)\n",
      "File \u001b[0;32m~/Library/Python/3.8/lib/python/site-packages/sklearn/__init__.py:82\u001b[0m, in \u001b[0;36m<module>\u001b[0;34m\u001b[0m\n\u001b[1;32m     <a href='file:///Users/muhammadwasifkamran/Library/Python/3.8/lib/python/site-packages/sklearn/__init__.py?line=79'>80</a>\u001b[0m \u001b[39mfrom\u001b[39;00m \u001b[39m.\u001b[39;00m \u001b[39mimport\u001b[39;00m _distributor_init  \u001b[39m# noqa: F401\u001b[39;00m\n\u001b[1;32m     <a href='file:///Users/muhammadwasifkamran/Library/Python/3.8/lib/python/site-packages/sklearn/__init__.py?line=80'>81</a>\u001b[0m \u001b[39mfrom\u001b[39;00m \u001b[39m.\u001b[39;00m \u001b[39mimport\u001b[39;00m __check_build  \u001b[39m# noqa: F401\u001b[39;00m\n\u001b[0;32m---> <a href='file:///Users/muhammadwasifkamran/Library/Python/3.8/lib/python/site-packages/sklearn/__init__.py?line=81'>82</a>\u001b[0m \u001b[39mfrom\u001b[39;00m \u001b[39m.\u001b[39;00m\u001b[39mbase\u001b[39;00m \u001b[39mimport\u001b[39;00m clone\n\u001b[1;32m     <a href='file:///Users/muhammadwasifkamran/Library/Python/3.8/lib/python/site-packages/sklearn/__init__.py?line=82'>83</a>\u001b[0m \u001b[39mfrom\u001b[39;00m \u001b[39m.\u001b[39;00m\u001b[39mutils\u001b[39;00m\u001b[39m.\u001b[39;00m\u001b[39m_show_versions\u001b[39;00m \u001b[39mimport\u001b[39;00m show_versions\n\u001b[1;32m     <a href='file:///Users/muhammadwasifkamran/Library/Python/3.8/lib/python/site-packages/sklearn/__init__.py?line=84'>85</a>\u001b[0m __all__ \u001b[39m=\u001b[39m [\n\u001b[1;32m     <a href='file:///Users/muhammadwasifkamran/Library/Python/3.8/lib/python/site-packages/sklearn/__init__.py?line=85'>86</a>\u001b[0m     \u001b[39m\"\u001b[39m\u001b[39mcalibration\u001b[39m\u001b[39m\"\u001b[39m,\n\u001b[1;32m     <a href='file:///Users/muhammadwasifkamran/Library/Python/3.8/lib/python/site-packages/sklearn/__init__.py?line=86'>87</a>\u001b[0m     \u001b[39m\"\u001b[39m\u001b[39mcluster\u001b[39m\u001b[39m\"\u001b[39m,\n\u001b[0;32m   (...)\u001b[0m\n\u001b[1;32m    <a href='file:///Users/muhammadwasifkamran/Library/Python/3.8/lib/python/site-packages/sklearn/__init__.py?line=127'>128</a>\u001b[0m     \u001b[39m\"\u001b[39m\u001b[39mshow_versions\u001b[39m\u001b[39m\"\u001b[39m,\n\u001b[1;32m    <a href='file:///Users/muhammadwasifkamran/Library/Python/3.8/lib/python/site-packages/sklearn/__init__.py?line=128'>129</a>\u001b[0m ]\n",
      "File \u001b[0;32m~/Library/Python/3.8/lib/python/site-packages/sklearn/base.py:17\u001b[0m, in \u001b[0;36m<module>\u001b[0;34m\u001b[0m\n\u001b[1;32m     <a href='file:///Users/muhammadwasifkamran/Library/Python/3.8/lib/python/site-packages/sklearn/base.py?line=14'>15</a>\u001b[0m \u001b[39mfrom\u001b[39;00m \u001b[39m.\u001b[39;00m \u001b[39mimport\u001b[39;00m __version__\n\u001b[1;32m     <a href='file:///Users/muhammadwasifkamran/Library/Python/3.8/lib/python/site-packages/sklearn/base.py?line=15'>16</a>\u001b[0m \u001b[39mfrom\u001b[39;00m \u001b[39m.\u001b[39;00m\u001b[39m_config\u001b[39;00m \u001b[39mimport\u001b[39;00m get_config\n\u001b[0;32m---> <a href='file:///Users/muhammadwasifkamran/Library/Python/3.8/lib/python/site-packages/sklearn/base.py?line=16'>17</a>\u001b[0m \u001b[39mfrom\u001b[39;00m \u001b[39m.\u001b[39;00m\u001b[39mutils\u001b[39;00m \u001b[39mimport\u001b[39;00m _IS_32BIT\n\u001b[1;32m     <a href='file:///Users/muhammadwasifkamran/Library/Python/3.8/lib/python/site-packages/sklearn/base.py?line=17'>18</a>\u001b[0m \u001b[39mfrom\u001b[39;00m \u001b[39m.\u001b[39;00m\u001b[39mutils\u001b[39;00m\u001b[39m.\u001b[39;00m\u001b[39m_tags\u001b[39;00m \u001b[39mimport\u001b[39;00m (\n\u001b[1;32m     <a href='file:///Users/muhammadwasifkamran/Library/Python/3.8/lib/python/site-packages/sklearn/base.py?line=18'>19</a>\u001b[0m     _DEFAULT_TAGS,\n\u001b[1;32m     <a href='file:///Users/muhammadwasifkamran/Library/Python/3.8/lib/python/site-packages/sklearn/base.py?line=19'>20</a>\u001b[0m )\n\u001b[1;32m     <a href='file:///Users/muhammadwasifkamran/Library/Python/3.8/lib/python/site-packages/sklearn/base.py?line=20'>21</a>\u001b[0m \u001b[39mfrom\u001b[39;00m \u001b[39m.\u001b[39;00m\u001b[39mutils\u001b[39;00m\u001b[39m.\u001b[39;00m\u001b[39mvalidation\u001b[39;00m \u001b[39mimport\u001b[39;00m check_X_y\n",
      "File \u001b[0;32m~/Library/Python/3.8/lib/python/site-packages/sklearn/utils/__init__.py:29\u001b[0m, in \u001b[0;36m<module>\u001b[0;34m\u001b[0m\n\u001b[1;32m     <a href='file:///Users/muhammadwasifkamran/Library/Python/3.8/lib/python/site-packages/sklearn/utils/__init__.py?line=26'>27</a>\u001b[0m \u001b[39mfrom\u001b[39;00m \u001b[39m.\u001b[39;00m\u001b[39m.\u001b[39;00m\u001b[39mexceptions\u001b[39;00m \u001b[39mimport\u001b[39;00m DataConversionWarning\n\u001b[1;32m     <a href='file:///Users/muhammadwasifkamran/Library/Python/3.8/lib/python/site-packages/sklearn/utils/__init__.py?line=27'>28</a>\u001b[0m \u001b[39mfrom\u001b[39;00m \u001b[39m.\u001b[39;00m\u001b[39mdeprecation\u001b[39;00m \u001b[39mimport\u001b[39;00m deprecated\n\u001b[0;32m---> <a href='file:///Users/muhammadwasifkamran/Library/Python/3.8/lib/python/site-packages/sklearn/utils/__init__.py?line=28'>29</a>\u001b[0m \u001b[39mfrom\u001b[39;00m \u001b[39m.\u001b[39;00m\u001b[39mfixes\u001b[39;00m \u001b[39mimport\u001b[39;00m parse_version, threadpool_info\n\u001b[1;32m     <a href='file:///Users/muhammadwasifkamran/Library/Python/3.8/lib/python/site-packages/sklearn/utils/__init__.py?line=29'>30</a>\u001b[0m \u001b[39mfrom\u001b[39;00m \u001b[39m.\u001b[39;00m\u001b[39m_estimator_html_repr\u001b[39;00m \u001b[39mimport\u001b[39;00m estimator_html_repr\n\u001b[1;32m     <a href='file:///Users/muhammadwasifkamran/Library/Python/3.8/lib/python/site-packages/sklearn/utils/__init__.py?line=30'>31</a>\u001b[0m \u001b[39mfrom\u001b[39;00m \u001b[39m.\u001b[39;00m\u001b[39mvalidation\u001b[39;00m \u001b[39mimport\u001b[39;00m (\n\u001b[1;32m     <a href='file:///Users/muhammadwasifkamran/Library/Python/3.8/lib/python/site-packages/sklearn/utils/__init__.py?line=31'>32</a>\u001b[0m     as_float_array,\n\u001b[1;32m     <a href='file:///Users/muhammadwasifkamran/Library/Python/3.8/lib/python/site-packages/sklearn/utils/__init__.py?line=32'>33</a>\u001b[0m     assert_all_finite,\n\u001b[0;32m   (...)\u001b[0m\n\u001b[1;32m     <a href='file:///Users/muhammadwasifkamran/Library/Python/3.8/lib/python/site-packages/sklearn/utils/__init__.py?line=40'>41</a>\u001b[0m     check_scalar,\n\u001b[1;32m     <a href='file:///Users/muhammadwasifkamran/Library/Python/3.8/lib/python/site-packages/sklearn/utils/__init__.py?line=41'>42</a>\u001b[0m )\n",
      "File \u001b[0;32m~/Library/Python/3.8/lib/python/site-packages/sklearn/utils/fixes.py:19\u001b[0m, in \u001b[0;36m<module>\u001b[0;34m\u001b[0m\n\u001b[1;32m     <a href='file:///Users/muhammadwasifkamran/Library/Python/3.8/lib/python/site-packages/sklearn/utils/fixes.py?line=16'>17</a>\u001b[0m \u001b[39mimport\u001b[39;00m \u001b[39mnumpy\u001b[39;00m \u001b[39mas\u001b[39;00m \u001b[39mnp\u001b[39;00m\n\u001b[1;32m     <a href='file:///Users/muhammadwasifkamran/Library/Python/3.8/lib/python/site-packages/sklearn/utils/fixes.py?line=17'>18</a>\u001b[0m \u001b[39mimport\u001b[39;00m \u001b[39mscipy\u001b[39;00m\n\u001b[0;32m---> <a href='file:///Users/muhammadwasifkamran/Library/Python/3.8/lib/python/site-packages/sklearn/utils/fixes.py?line=18'>19</a>\u001b[0m \u001b[39mimport\u001b[39;00m \u001b[39mscipy\u001b[39;00m\u001b[39m.\u001b[39;00m\u001b[39mstats\u001b[39;00m\n\u001b[1;32m     <a href='file:///Users/muhammadwasifkamran/Library/Python/3.8/lib/python/site-packages/sklearn/utils/fixes.py?line=19'>20</a>\u001b[0m \u001b[39mimport\u001b[39;00m \u001b[39mthreadpoolctl\u001b[39;00m\n\u001b[1;32m     <a href='file:///Users/muhammadwasifkamran/Library/Python/3.8/lib/python/site-packages/sklearn/utils/fixes.py?line=20'>21</a>\u001b[0m \u001b[39mfrom\u001b[39;00m \u001b[39m.\u001b[39;00m\u001b[39m.\u001b[39;00m\u001b[39m_config\u001b[39;00m \u001b[39mimport\u001b[39;00m config_context, get_config\n",
      "File \u001b[0;32m~/Library/Python/3.8/lib/python/site-packages/scipy/stats/__init__.py:453\u001b[0m, in \u001b[0;36m<module>\u001b[0;34m\u001b[0m\n\u001b[1;32m      <a href='file:///Users/muhammadwasifkamran/Library/Python/3.8/lib/python/site-packages/scipy/stats/__init__.py?line=0'>1</a>\u001b[0m \u001b[39m\"\"\"\u001b[39;00m\n\u001b[1;32m      <a href='file:///Users/muhammadwasifkamran/Library/Python/3.8/lib/python/site-packages/scipy/stats/__init__.py?line=1'>2</a>\u001b[0m \u001b[39m.. _statsrefmanual:\u001b[39;00m\n\u001b[1;32m      <a href='file:///Users/muhammadwasifkamran/Library/Python/3.8/lib/python/site-packages/scipy/stats/__init__.py?line=2'>3</a>\u001b[0m \n\u001b[0;32m   (...)\u001b[0m\n\u001b[1;32m    <a href='file:///Users/muhammadwasifkamran/Library/Python/3.8/lib/python/site-packages/scipy/stats/__init__.py?line=449'>450</a>\u001b[0m \n\u001b[1;32m    <a href='file:///Users/muhammadwasifkamran/Library/Python/3.8/lib/python/site-packages/scipy/stats/__init__.py?line=450'>451</a>\u001b[0m \u001b[39m\"\"\"\u001b[39;00m\n\u001b[0;32m--> <a href='file:///Users/muhammadwasifkamran/Library/Python/3.8/lib/python/site-packages/scipy/stats/__init__.py?line=452'>453</a>\u001b[0m \u001b[39mfrom\u001b[39;00m \u001b[39m.\u001b[39;00m\u001b[39m_stats_py\u001b[39;00m \u001b[39mimport\u001b[39;00m \u001b[39m*\u001b[39m\n\u001b[1;32m    <a href='file:///Users/muhammadwasifkamran/Library/Python/3.8/lib/python/site-packages/scipy/stats/__init__.py?line=453'>454</a>\u001b[0m \u001b[39mfrom\u001b[39;00m \u001b[39m.\u001b[39;00m\u001b[39m_variation\u001b[39;00m \u001b[39mimport\u001b[39;00m variation\n\u001b[1;32m    <a href='file:///Users/muhammadwasifkamran/Library/Python/3.8/lib/python/site-packages/scipy/stats/__init__.py?line=454'>455</a>\u001b[0m \u001b[39mfrom\u001b[39;00m \u001b[39m.\u001b[39;00m\u001b[39mdistributions\u001b[39;00m \u001b[39mimport\u001b[39;00m \u001b[39m*\u001b[39m\n",
      "File \u001b[0;32m~/Library/Python/3.8/lib/python/site-packages/scipy/stats/_stats_py.py:38\u001b[0m, in \u001b[0;36m<module>\u001b[0;34m\u001b[0m\n\u001b[1;32m     <a href='file:///Users/muhammadwasifkamran/Library/Python/3.8/lib/python/site-packages/scipy/stats/_stats_py.py?line=34'>35</a>\u001b[0m \u001b[39mfrom\u001b[39;00m \u001b[39mnumpy\u001b[39;00m \u001b[39mimport\u001b[39;00m array, asarray, ma\n\u001b[1;32m     <a href='file:///Users/muhammadwasifkamran/Library/Python/3.8/lib/python/site-packages/scipy/stats/_stats_py.py?line=35'>36</a>\u001b[0m \u001b[39mfrom\u001b[39;00m \u001b[39mnumpy\u001b[39;00m\u001b[39m.\u001b[39;00m\u001b[39mlib\u001b[39;00m \u001b[39mimport\u001b[39;00m NumpyVersion\n\u001b[0;32m---> <a href='file:///Users/muhammadwasifkamran/Library/Python/3.8/lib/python/site-packages/scipy/stats/_stats_py.py?line=37'>38</a>\u001b[0m \u001b[39mfrom\u001b[39;00m \u001b[39mscipy\u001b[39;00m\u001b[39m.\u001b[39;00m\u001b[39mspatial\u001b[39;00m\u001b[39m.\u001b[39;00m\u001b[39mdistance\u001b[39;00m \u001b[39mimport\u001b[39;00m cdist\n\u001b[1;32m     <a href='file:///Users/muhammadwasifkamran/Library/Python/3.8/lib/python/site-packages/scipy/stats/_stats_py.py?line=38'>39</a>\u001b[0m \u001b[39mfrom\u001b[39;00m \u001b[39mscipy\u001b[39;00m\u001b[39m.\u001b[39;00m\u001b[39mndimage\u001b[39;00m \u001b[39mimport\u001b[39;00m _measurements\n\u001b[1;32m     <a href='file:///Users/muhammadwasifkamran/Library/Python/3.8/lib/python/site-packages/scipy/stats/_stats_py.py?line=39'>40</a>\u001b[0m \u001b[39mfrom\u001b[39;00m \u001b[39mscipy\u001b[39;00m\u001b[39m.\u001b[39;00m\u001b[39m_lib\u001b[39;00m\u001b[39m.\u001b[39;00m\u001b[39m_util\u001b[39;00m \u001b[39mimport\u001b[39;00m (check_random_state, MapWrapper,\n\u001b[1;32m     <a href='file:///Users/muhammadwasifkamran/Library/Python/3.8/lib/python/site-packages/scipy/stats/_stats_py.py?line=40'>41</a>\u001b[0m                               rng_integers, float_factorial)\n",
      "File \u001b[0;32m~/Library/Python/3.8/lib/python/site-packages/scipy/spatial/__init__.py:108\u001b[0m, in \u001b[0;36m<module>\u001b[0;34m\u001b[0m\n\u001b[1;32m    <a href='file:///Users/muhammadwasifkamran/Library/Python/3.8/lib/python/site-packages/scipy/spatial/__init__.py?line=105'>106</a>\u001b[0m \u001b[39mfrom\u001b[39;00m \u001b[39m.\u001b[39;00m\u001b[39m_plotutils\u001b[39;00m \u001b[39mimport\u001b[39;00m \u001b[39m*\u001b[39m\n\u001b[1;32m    <a href='file:///Users/muhammadwasifkamran/Library/Python/3.8/lib/python/site-packages/scipy/spatial/__init__.py?line=106'>107</a>\u001b[0m \u001b[39mfrom\u001b[39;00m \u001b[39m.\u001b[39;00m\u001b[39m_procrustes\u001b[39;00m \u001b[39mimport\u001b[39;00m procrustes\n\u001b[0;32m--> <a href='file:///Users/muhammadwasifkamran/Library/Python/3.8/lib/python/site-packages/scipy/spatial/__init__.py?line=107'>108</a>\u001b[0m \u001b[39mfrom\u001b[39;00m \u001b[39m.\u001b[39;00m\u001b[39m_geometric_slerp\u001b[39;00m \u001b[39mimport\u001b[39;00m geometric_slerp\n\u001b[1;32m    <a href='file:///Users/muhammadwasifkamran/Library/Python/3.8/lib/python/site-packages/scipy/spatial/__init__.py?line=109'>110</a>\u001b[0m \u001b[39m# Deprecated namespaces, to be removed in v2.0.0\u001b[39;00m\n\u001b[1;32m    <a href='file:///Users/muhammadwasifkamran/Library/Python/3.8/lib/python/site-packages/scipy/spatial/__init__.py?line=110'>111</a>\u001b[0m \u001b[39mfrom\u001b[39;00m \u001b[39m.\u001b[39;00m \u001b[39mimport\u001b[39;00m ckdtree, kdtree, qhull\n",
      "File \u001b[0;32m~/Library/Python/3.8/lib/python/site-packages/scipy/spatial/_geometric_slerp.py:9\u001b[0m, in \u001b[0;36m<module>\u001b[0;34m\u001b[0m\n\u001b[1;32m      <a href='file:///Users/muhammadwasifkamran/Library/Python/3.8/lib/python/site-packages/scipy/spatial/_geometric_slerp.py?line=5'>6</a>\u001b[0m \u001b[39mfrom\u001b[39;00m \u001b[39mtyping\u001b[39;00m \u001b[39mimport\u001b[39;00m TYPE_CHECKING\n\u001b[1;32m      <a href='file:///Users/muhammadwasifkamran/Library/Python/3.8/lib/python/site-packages/scipy/spatial/_geometric_slerp.py?line=7'>8</a>\u001b[0m \u001b[39mimport\u001b[39;00m \u001b[39mnumpy\u001b[39;00m \u001b[39mas\u001b[39;00m \u001b[39mnp\u001b[39;00m\n\u001b[0;32m----> <a href='file:///Users/muhammadwasifkamran/Library/Python/3.8/lib/python/site-packages/scipy/spatial/_geometric_slerp.py?line=8'>9</a>\u001b[0m \u001b[39mfrom\u001b[39;00m \u001b[39mscipy\u001b[39;00m\u001b[39m.\u001b[39;00m\u001b[39mspatial\u001b[39;00m\u001b[39m.\u001b[39;00m\u001b[39mdistance\u001b[39;00m \u001b[39mimport\u001b[39;00m euclidean\n\u001b[1;32m     <a href='file:///Users/muhammadwasifkamran/Library/Python/3.8/lib/python/site-packages/scipy/spatial/_geometric_slerp.py?line=10'>11</a>\u001b[0m \u001b[39mif\u001b[39;00m TYPE_CHECKING:\n\u001b[1;32m     <a href='file:///Users/muhammadwasifkamran/Library/Python/3.8/lib/python/site-packages/scipy/spatial/_geometric_slerp.py?line=11'>12</a>\u001b[0m     \u001b[39mimport\u001b[39;00m \u001b[39mnumpy\u001b[39;00m\u001b[39m.\u001b[39;00m\u001b[39mtyping\u001b[39;00m \u001b[39mas\u001b[39;00m \u001b[39mnpt\u001b[39;00m\n",
      "File \u001b[0;32m~/Library/Python/3.8/lib/python/site-packages/scipy/spatial/distance.py:120\u001b[0m, in \u001b[0;36m<module>\u001b[0;34m\u001b[0m\n\u001b[1;32m    <a href='file:///Users/muhammadwasifkamran/Library/Python/3.8/lib/python/site-packages/scipy/spatial/distance.py?line=116'>117</a>\u001b[0m \u001b[39mfrom\u001b[39;00m \u001b[39mfunctools\u001b[39;00m \u001b[39mimport\u001b[39;00m partial\n\u001b[1;32m    <a href='file:///Users/muhammadwasifkamran/Library/Python/3.8/lib/python/site-packages/scipy/spatial/distance.py?line=117'>118</a>\u001b[0m \u001b[39mfrom\u001b[39;00m \u001b[39mscipy\u001b[39;00m\u001b[39m.\u001b[39;00m\u001b[39m_lib\u001b[39;00m\u001b[39m.\u001b[39;00m\u001b[39m_util\u001b[39;00m \u001b[39mimport\u001b[39;00m _asarray_validated\n\u001b[0;32m--> <a href='file:///Users/muhammadwasifkamran/Library/Python/3.8/lib/python/site-packages/scipy/spatial/distance.py?line=119'>120</a>\u001b[0m \u001b[39mfrom\u001b[39;00m \u001b[39m.\u001b[39;00m \u001b[39mimport\u001b[39;00m _distance_wrap\n\u001b[1;32m    <a href='file:///Users/muhammadwasifkamran/Library/Python/3.8/lib/python/site-packages/scipy/spatial/distance.py?line=120'>121</a>\u001b[0m \u001b[39mfrom\u001b[39;00m \u001b[39m.\u001b[39;00m \u001b[39mimport\u001b[39;00m _hausdorff\n\u001b[1;32m    <a href='file:///Users/muhammadwasifkamran/Library/Python/3.8/lib/python/site-packages/scipy/spatial/distance.py?line=121'>122</a>\u001b[0m \u001b[39mfrom\u001b[39;00m \u001b[39m.\u001b[39;00m\u001b[39m.\u001b[39;00m\u001b[39mlinalg\u001b[39;00m \u001b[39mimport\u001b[39;00m norm\n",
      "\u001b[0;31mImportError\u001b[0m: dlopen(/Users/muhammadwasifkamran/Library/Python/3.8/lib/python/site-packages/scipy/spatial/_distance_wrap.cpython-38-darwin.so, 0x0006): symbol not found in flat namespace '_npy_copysign'"
     ]
    }
   ],
   "source": [
    "from sklearn.preprocessing import MinMaxScaler\n",
    "sc = MinMaxScaler(feature_range=(0,1))\n",
    "training_set_scaled = sc.fit_transform(training_set)"
   ]
  },
  {
   "cell_type": "code",
   "execution_count": 8,
   "metadata": {},
   "outputs": [],
   "source": [
    "X_train = []\n",
    "y_train = []\n",
    "for i in range(60, 2035):\n",
    "    X_train.append(training_set_scaled[i-60:i, 0])\n",
    "    y_train.append(training_set_scaled[i, 0])\n",
    "X_train, y_train = np.array(X_train), np.array(y_train)\n",
    "\n",
    "X_train = np.reshape(X_train, (X_train.shape[0], X_train.shape[1], 1))"
   ]
  },
  {
   "cell_type": "code",
   "execution_count": 3,
   "metadata": {},
   "outputs": [],
   "source": [
    "from keras.models import Sequential\n",
    "from keras.layers import LSTM\n",
    "from keras.layers import Dropout\n",
    "from keras.layers import Dense "
   ]
  },
  {
   "cell_type": "code",
   "execution_count": 4,
   "metadata": {},
   "outputs": [
    {
     "ename": "NameError",
     "evalue": "name 'X_train' is not defined",
     "output_type": "error",
     "traceback": [
      "\u001b[0;31m---------------------------------------------------------------------------\u001b[0m",
      "\u001b[0;31mNameError\u001b[0m                                 Traceback (most recent call last)",
      "\u001b[1;32m/Users/muhammadwasifkamran/Documents/StockPrediction/src/LSTM/notebook.ipynb Cell 9'\u001b[0m in \u001b[0;36m<cell line: 3>\u001b[0;34m()\u001b[0m\n\u001b[1;32m      <a href='vscode-notebook-cell:/Users/muhammadwasifkamran/Documents/StockPrediction/src/LSTM/notebook.ipynb#ch0000009?line=0'>1</a>\u001b[0m model \u001b[39m=\u001b[39m Sequential()\n\u001b[0;32m----> <a href='vscode-notebook-cell:/Users/muhammadwasifkamran/Documents/StockPrediction/src/LSTM/notebook.ipynb#ch0000009?line=2'>3</a>\u001b[0m model\u001b[39m.\u001b[39madd(LSTM(units\u001b[39m=\u001b[39m\u001b[39m50\u001b[39m,return_sequences\u001b[39m=\u001b[39m\u001b[39mTrue\u001b[39;00m,input_shape\u001b[39m=\u001b[39m(X_train\u001b[39m.\u001b[39mshape[\u001b[39m1\u001b[39m], \u001b[39m1\u001b[39m)))\n\u001b[1;32m      <a href='vscode-notebook-cell:/Users/muhammadwasifkamran/Documents/StockPrediction/src/LSTM/notebook.ipynb#ch0000009?line=3'>4</a>\u001b[0m model\u001b[39m.\u001b[39madd(Dropout(\u001b[39m0.2\u001b[39m))\n\u001b[1;32m      <a href='vscode-notebook-cell:/Users/muhammadwasifkamran/Documents/StockPrediction/src/LSTM/notebook.ipynb#ch0000009?line=5'>6</a>\u001b[0m model\u001b[39m.\u001b[39madd(LSTM(units\u001b[39m=\u001b[39m\u001b[39m50\u001b[39m,return_sequences\u001b[39m=\u001b[39m\u001b[39mTrue\u001b[39;00m))\n",
      "\u001b[0;31mNameError\u001b[0m: name 'X_train' is not defined"
     ]
    }
   ],
   "source": [
    "model = Sequential()\n",
    "\n",
    "model.add(LSTM(units=50,return_sequences=True,input_shape=(X_train.shape[1], 1)))\n",
    "model.add(Dropout(0.2))\n",
    "\n",
    "model.add(LSTM(units=50,return_sequences=True))\n",
    "model.add(Dropout(0.2))\n",
    "\n",
    "model.add(LSTM(units=50,return_sequences=True))\n",
    "model.add(Dropout(0.2))\n",
    "\n",
    "model.add(LSTM(units=50))\n",
    "model.add(Dropout(0.2))\n",
    "\n",
    "model.add(Dense(units=1))\n",
    "\n",
    "model.compile(optimizer='adam',loss='mean_squared_error')\n",
    "\n",
    "model.fit(X_train,y_train,epochs=100,batch_size=32)"
   ]
  }
 ],
 "metadata": {
  "interpreter": {
   "hash": "31f2aee4e71d21fbe5cf8b01ff0e069b9275f58929596ceb00d14d90e3e16cd6"
  },
  "kernelspec": {
   "display_name": "Python 3.8.9 64-bit",
   "language": "python",
   "name": "python3"
  },
  "language_info": {
   "codemirror_mode": {
    "name": "ipython",
    "version": 3
   },
   "file_extension": ".py",
   "mimetype": "text/x-python",
   "name": "python",
   "nbconvert_exporter": "python",
   "pygments_lexer": "ipython3",
   "version": "3.8.9"
  },
  "orig_nbformat": 4
 },
 "nbformat": 4,
 "nbformat_minor": 2
}
